{
  "cells": [
    {
      "cell_type": "code",
      "execution_count": 1,
      "metadata": {
        "colab": {
          "base_uri": "https://localhost:8080/"
        },
        "id": "Ain2Km6V6zgP",
        "outputId": "d2de2cb4-62f3-4de3-8f27-a01b484bc0b5"
      },
      "outputs": [
        {
          "output_type": "stream",
          "name": "stdout",
          "text": [
            "Requirement already satisfied: torch in /usr/local/lib/python3.12/dist-packages (2.8.0+cu126)\n",
            "Requirement already satisfied: torchvision in /usr/local/lib/python3.12/dist-packages (0.23.0+cu126)\n",
            "Requirement already satisfied: torchaudio in /usr/local/lib/python3.12/dist-packages (2.8.0+cu126)\n",
            "Requirement already satisfied: numpy in /usr/local/lib/python3.12/dist-packages (2.0.2)\n",
            "Requirement already satisfied: filelock in /usr/local/lib/python3.12/dist-packages (from torch) (3.19.1)\n",
            "Requirement already satisfied: typing-extensions>=4.10.0 in /usr/local/lib/python3.12/dist-packages (from torch) (4.15.0)\n",
            "Requirement already satisfied: setuptools in /usr/local/lib/python3.12/dist-packages (from torch) (75.2.0)\n",
            "Requirement already satisfied: sympy>=1.13.3 in /usr/local/lib/python3.12/dist-packages (from torch) (1.13.3)\n",
            "Requirement already satisfied: networkx in /usr/local/lib/python3.12/dist-packages (from torch) (3.5)\n",
            "Requirement already satisfied: jinja2 in /usr/local/lib/python3.12/dist-packages (from torch) (3.1.6)\n",
            "Requirement already satisfied: fsspec in /usr/local/lib/python3.12/dist-packages (from torch) (2025.3.0)\n",
            "Requirement already satisfied: nvidia-cuda-nvrtc-cu12==12.6.77 in /usr/local/lib/python3.12/dist-packages (from torch) (12.6.77)\n",
            "Requirement already satisfied: nvidia-cuda-runtime-cu12==12.6.77 in /usr/local/lib/python3.12/dist-packages (from torch) (12.6.77)\n",
            "Requirement already satisfied: nvidia-cuda-cupti-cu12==12.6.80 in /usr/local/lib/python3.12/dist-packages (from torch) (12.6.80)\n",
            "Requirement already satisfied: nvidia-cudnn-cu12==9.10.2.21 in /usr/local/lib/python3.12/dist-packages (from torch) (9.10.2.21)\n",
            "Requirement already satisfied: nvidia-cublas-cu12==12.6.4.1 in /usr/local/lib/python3.12/dist-packages (from torch) (12.6.4.1)\n",
            "Requirement already satisfied: nvidia-cufft-cu12==11.3.0.4 in /usr/local/lib/python3.12/dist-packages (from torch) (11.3.0.4)\n",
            "Requirement already satisfied: nvidia-curand-cu12==10.3.7.77 in /usr/local/lib/python3.12/dist-packages (from torch) (10.3.7.77)\n",
            "Requirement already satisfied: nvidia-cusolver-cu12==11.7.1.2 in /usr/local/lib/python3.12/dist-packages (from torch) (11.7.1.2)\n",
            "Requirement already satisfied: nvidia-cusparse-cu12==12.5.4.2 in /usr/local/lib/python3.12/dist-packages (from torch) (12.5.4.2)\n",
            "Requirement already satisfied: nvidia-cusparselt-cu12==0.7.1 in /usr/local/lib/python3.12/dist-packages (from torch) (0.7.1)\n",
            "Requirement already satisfied: nvidia-nccl-cu12==2.27.3 in /usr/local/lib/python3.12/dist-packages (from torch) (2.27.3)\n",
            "Requirement already satisfied: nvidia-nvtx-cu12==12.6.77 in /usr/local/lib/python3.12/dist-packages (from torch) (12.6.77)\n",
            "Requirement already satisfied: nvidia-nvjitlink-cu12==12.6.85 in /usr/local/lib/python3.12/dist-packages (from torch) (12.6.85)\n",
            "Requirement already satisfied: nvidia-cufile-cu12==1.11.1.6 in /usr/local/lib/python3.12/dist-packages (from torch) (1.11.1.6)\n",
            "Requirement already satisfied: triton==3.4.0 in /usr/local/lib/python3.12/dist-packages (from torch) (3.4.0)\n",
            "Requirement already satisfied: pillow!=8.3.*,>=5.3.0 in /usr/local/lib/python3.12/dist-packages (from torchvision) (11.3.0)\n",
            "Requirement already satisfied: mpmath<1.4,>=1.1.0 in /usr/local/lib/python3.12/dist-packages (from sympy>=1.13.3->torch) (1.3.0)\n",
            "Requirement already satisfied: MarkupSafe>=2.0 in /usr/local/lib/python3.12/dist-packages (from jinja2->torch) (3.0.2)\n"
          ]
        }
      ],
      "source": [
        "pip install torch torchvision torchaudio numpy"
      ]
    },
    {
      "cell_type": "code",
      "execution_count": 2,
      "metadata": {
        "colab": {
          "base_uri": "https://localhost:8080/"
        },
        "id": "xvRCqSyS6zgQ",
        "outputId": "6f55da72-0c1d-448e-92ba-00c996ffe391"
      },
      "outputs": [
        {
          "output_type": "stream",
          "name": "stdout",
          "text": [
            "Requirement already satisfied: opencv-python in /usr/local/lib/python3.12/dist-packages (4.12.0.88)\n",
            "Requirement already satisfied: numpy<2.3.0,>=2 in /usr/local/lib/python3.12/dist-packages (from opencv-python) (2.0.2)\n"
          ]
        }
      ],
      "source": [
        "pip install opencv-python\n"
      ]
    },
    {
      "cell_type": "code",
      "execution_count": 3,
      "metadata": {
        "colab": {
          "base_uri": "https://localhost:8080/"
        },
        "id": "DMAtcBhU8b62",
        "outputId": "0d756d32-991b-4e27-9e95-bddc2811aec5"
      },
      "outputs": [
        {
          "output_type": "stream",
          "name": "stdout",
          "text": [
            "cuda:0\n"
          ]
        }
      ],
      "source": [
        "import torch\n",
        "import cv2\n",
        "import numpy as np\n",
        "import matplotlib.pyplot as plt\n",
        "import torchvision\n",
        "from torch.utils.data import random_split , DataLoader\n",
        "import copy\n",
        "import torchvision.transforms as transforms\n",
        "\n",
        "device = torch.device(\"cuda:0\" if torch.cuda.is_available() else \"cpu\")\n",
        "print(device)"
      ]
    },
    {
      "cell_type": "code",
      "execution_count": 4,
      "metadata": {
        "colab": {
          "base_uri": "https://localhost:8080/"
        },
        "id": "Un9DxynW9her",
        "outputId": "5dd4882c-3aca-4f0d-83ab-0fd3c6cc404d"
      },
      "outputs": [
        {
          "output_type": "stream",
          "name": "stderr",
          "text": [
            "100%|██████████| 170M/170M [00:14<00:00, 11.9MB/s]\n"
          ]
        }
      ],
      "source": [
        "#Load Dataset: CIFAR-10\n",
        "\n",
        "transform = transforms.Compose([   # used in torchvision.datasets.CIFAR10()\n",
        "    transforms.Resize(224),   # VGG19 expects 224x224\n",
        "    transforms.ToTensor(),\n",
        "    transforms.Normalize((0.5, 0.5, 0.5),\n",
        "                         (0.5, 0.5, 0.5))\n",
        "])\n",
        "train_dataset = torchvision.datasets.CIFAR10(root='./data', train=True, download=True, transform=transform)\n",
        "test_dataset = torchvision.datasets.CIFAR10(root='./data', train=False, download=True, transform=transform)\n",
        "\n",
        "final_dataset = torch.utils.data.ConcatDataset([train_dataset, test_dataset])"
      ]
    },
    {
      "cell_type": "code",
      "execution_count": 5,
      "metadata": {
        "colab": {
          "base_uri": "https://localhost:8080/"
        },
        "id": "b3ea63be",
        "outputId": "eebf33c5-f634-46df-d3ac-04885da7695e"
      },
      "outputs": [
        {
          "output_type": "stream",
          "name": "stdout",
          "text": [
            "Class Distribution:\n",
            "Class 6: 6000\n",
            "Class 9: 6000\n",
            "Class 4: 6000\n",
            "Class 1: 6000\n",
            "Class 2: 6000\n",
            "Class 7: 6000\n",
            "Class 8: 6000\n",
            "Class 3: 6000\n",
            "Class 5: 6000\n",
            "Class 0: 6000\n"
          ]
        }
      ],
      "source": [
        "from collections import Counter\n",
        "targets = [target for _, target in final_dataset]\n",
        "\n",
        "# Count the occurrences of each class\n",
        "class_counts = Counter(targets)\n",
        "\n",
        "print(\"Class Distribution:\")\n",
        "for class_id, count in class_counts.items():\n",
        "    print(f\"Class {class_id}: {count}\")"
      ]
    },
    {
      "cell_type": "code",
      "execution_count": 6,
      "metadata": {
        "id": "0jSk1KonAUsL"
      },
      "outputs": [],
      "source": [
        "total_size = len(final_dataset)\n",
        "train_size = int(0.7*total_size) #70%\n",
        "val_size = int(0.15*total_size) #15%\n",
        "test_size = int(0.15*total_size) #15%\n",
        "\n",
        "train_dataset, val_dataset, test_dataset = random_split(final_dataset, [train_size, val_size, test_size])\n",
        "\n",
        "train_loader = DataLoader(train_dataset, batch_size=64, shuffle=True, num_workers=0)\n",
        "val_loader = DataLoader(val_dataset, batch_size=64, shuffle=False, num_workers=0)\n",
        "test_loader = DataLoader(test_dataset, batch_size=64, shuffle=False, num_workers=0)"
      ]
    },
    {
      "cell_type": "code",
      "execution_count": 7,
      "metadata": {
        "colab": {
          "base_uri": "https://localhost:8080/"
        },
        "id": "9cqE4TiQBEOB",
        "outputId": "e7923545-4f22-471b-9142-5d81f0d2c0a1"
      },
      "outputs": [
        {
          "output_type": "stream",
          "name": "stdout",
          "text": [
            "Downloading: \"https://download.pytorch.org/models/vgg19-dcbb9e9d.pth\" to /root/.cache/torch/hub/checkpoints/vgg19-dcbb9e9d.pth\n"
          ]
        },
        {
          "output_type": "stream",
          "name": "stderr",
          "text": [
            "100%|██████████| 548M/548M [00:07<00:00, 73.6MB/s]\n"
          ]
        },
        {
          "output_type": "execute_result",
          "data": {
            "text/plain": [
              "VGG(\n",
              "  (features): Sequential(\n",
              "    (0): Conv2d(3, 64, kernel_size=(3, 3), stride=(1, 1), padding=(1, 1))\n",
              "    (1): ReLU(inplace=True)\n",
              "    (2): Conv2d(64, 64, kernel_size=(3, 3), stride=(1, 1), padding=(1, 1))\n",
              "    (3): ReLU(inplace=True)\n",
              "    (4): MaxPool2d(kernel_size=2, stride=2, padding=0, dilation=1, ceil_mode=False)\n",
              "    (5): Conv2d(64, 128, kernel_size=(3, 3), stride=(1, 1), padding=(1, 1))\n",
              "    (6): ReLU(inplace=True)\n",
              "    (7): Conv2d(128, 128, kernel_size=(3, 3), stride=(1, 1), padding=(1, 1))\n",
              "    (8): ReLU(inplace=True)\n",
              "    (9): MaxPool2d(kernel_size=2, stride=2, padding=0, dilation=1, ceil_mode=False)\n",
              "    (10): Conv2d(128, 256, kernel_size=(3, 3), stride=(1, 1), padding=(1, 1))\n",
              "    (11): ReLU(inplace=True)\n",
              "    (12): Conv2d(256, 256, kernel_size=(3, 3), stride=(1, 1), padding=(1, 1))\n",
              "    (13): ReLU(inplace=True)\n",
              "    (14): Conv2d(256, 256, kernel_size=(3, 3), stride=(1, 1), padding=(1, 1))\n",
              "    (15): ReLU(inplace=True)\n",
              "    (16): Conv2d(256, 256, kernel_size=(3, 3), stride=(1, 1), padding=(1, 1))\n",
              "    (17): ReLU(inplace=True)\n",
              "    (18): MaxPool2d(kernel_size=2, stride=2, padding=0, dilation=1, ceil_mode=False)\n",
              "    (19): Conv2d(256, 512, kernel_size=(3, 3), stride=(1, 1), padding=(1, 1))\n",
              "    (20): ReLU(inplace=True)\n",
              "    (21): Conv2d(512, 512, kernel_size=(3, 3), stride=(1, 1), padding=(1, 1))\n",
              "    (22): ReLU(inplace=True)\n",
              "    (23): Conv2d(512, 512, kernel_size=(3, 3), stride=(1, 1), padding=(1, 1))\n",
              "    (24): ReLU(inplace=True)\n",
              "    (25): Conv2d(512, 512, kernel_size=(3, 3), stride=(1, 1), padding=(1, 1))\n",
              "    (26): ReLU(inplace=True)\n",
              "    (27): MaxPool2d(kernel_size=2, stride=2, padding=0, dilation=1, ceil_mode=False)\n",
              "    (28): Conv2d(512, 512, kernel_size=(3, 3), stride=(1, 1), padding=(1, 1))\n",
              "    (29): ReLU(inplace=True)\n",
              "    (30): Conv2d(512, 512, kernel_size=(3, 3), stride=(1, 1), padding=(1, 1))\n",
              "    (31): ReLU(inplace=True)\n",
              "    (32): Conv2d(512, 512, kernel_size=(3, 3), stride=(1, 1), padding=(1, 1))\n",
              "    (33): ReLU(inplace=True)\n",
              "    (34): Conv2d(512, 512, kernel_size=(3, 3), stride=(1, 1), padding=(1, 1))\n",
              "    (35): ReLU(inplace=True)\n",
              "    (36): MaxPool2d(kernel_size=2, stride=2, padding=0, dilation=1, ceil_mode=False)\n",
              "  )\n",
              "  (avgpool): AdaptiveAvgPool2d(output_size=(7, 7))\n",
              "  (classifier): Sequential(\n",
              "    (0): Linear(in_features=25088, out_features=4096, bias=True)\n",
              "    (1): ReLU(inplace=True)\n",
              "    (2): Dropout(p=0.5, inplace=False)\n",
              "    (3): Linear(in_features=4096, out_features=4096, bias=True)\n",
              "    (4): ReLU(inplace=True)\n",
              "    (5): Dropout(p=0.5, inplace=False)\n",
              "    (6): Linear(in_features=4096, out_features=10, bias=True)\n",
              "  )\n",
              ")"
            ]
          },
          "metadata": {},
          "execution_count": 7
        }
      ],
      "source": [
        "from torchvision.models import vgg19, VGG19_Weights\n",
        "model = vgg19(weights=VGG19_Weights.DEFAULT)\n",
        "# Modify the classifier for the number of classes in CIFAR-10 (10 classes)\n",
        "num_features = model.classifier[6].in_features\n",
        "model.classifier[6] = torch.nn.Linear(num_features, 10)\n",
        "model.to(device)"
      ]
    },
    {
      "cell_type": "code",
      "execution_count": 8,
      "metadata": {
        "colab": {
          "base_uri": "https://localhost:8080/",
          "height": 1000
        },
        "id": "0yFpO2fDB_qA",
        "outputId": "38c6c176-0fef-46fe-929c-7567914cdcfd"
      },
      "outputs": [
        {
          "metadata": {
            "tags": null
          },
          "name": "stdout",
          "output_type": "stream",
          "text": [
            "\n",
            "Epoch 1/20\n",
            "--------------------\n",
            "Train Loss: 2.0024 Acc: 0.2420\n",
            "Val Loss: 1.6835 Acc: 0.3748\n",
            "✔️ Saved best model\n",
            "\n",
            "Epoch 2/20\n",
            "--------------------\n",
            "Train Loss: 1.5393 Acc: 0.4340\n",
            "Val Loss: 1.3656 Acc: 0.5082\n",
            "✔️ Saved best model\n",
            "\n",
            "Epoch 3/20\n",
            "--------------------\n",
            "Train Loss: 1.3579 Acc: 0.5100\n",
            "Val Loss: 1.3069 Acc: 0.5326\n",
            "✔️ Saved best model\n",
            "\n",
            "Epoch 4/20\n",
            "--------------------\n",
            "Train Loss: 1.2568 Acc: 0.5500\n",
            "Val Loss: 1.1621 Acc: 0.5843\n",
            "✔️ Saved best model\n",
            "\n",
            "Epoch 5/20\n",
            "--------------------\n",
            "Train Loss: 1.1938 Acc: 0.5762\n",
            "Val Loss: 1.1650 Acc: 0.5809\n",
            "\n",
            "Epoch 6/20\n",
            "--------------------\n",
            "Train Loss: 1.1449 Acc: 0.5945\n",
            "Val Loss: 1.1245 Acc: 0.6027\n",
            "✔️ Saved best model\n",
            "\n",
            "Epoch 7/20\n",
            "--------------------\n",
            "Train Loss: 1.0959 Acc: 0.6143\n",
            "Val Loss: 1.0562 Acc: 0.6279\n",
            "✔️ Saved best model\n",
            "\n",
            "Epoch 8/20\n",
            "--------------------\n",
            "Train Loss: 1.0560 Acc: 0.6286\n",
            "Val Loss: 1.0385 Acc: 0.6419\n",
            "✔️ Saved best model\n",
            "\n",
            "Epoch 9/20\n",
            "--------------------\n",
            "Train Loss: 1.0144 Acc: 0.6455\n",
            "Val Loss: 1.0074 Acc: 0.6451\n",
            "✔️ Saved best model\n",
            "\n",
            "Epoch 10/20\n",
            "--------------------\n",
            "Train Loss: 0.9812 Acc: 0.6597\n",
            "Val Loss: 0.9811 Acc: 0.6638\n",
            "✔️ Saved best model\n",
            "\n",
            "Epoch 11/20\n",
            "--------------------\n",
            "Train Loss: 0.9413 Acc: 0.6705\n",
            "Val Loss: 0.9353 Acc: 0.6687\n",
            "✔️ Saved best model\n",
            "\n",
            "Epoch 12/20\n",
            "--------------------\n",
            "Train Loss: 0.9166 Acc: 0.6795\n",
            "Val Loss: 0.9450 Acc: 0.6758\n",
            "\n",
            "Epoch 13/20\n",
            "--------------------\n",
            "Train Loss: 0.8858 Acc: 0.6921\n",
            "Val Loss: 0.8883 Acc: 0.6909\n",
            "✔️ Saved best model\n",
            "\n",
            "Epoch 14/20\n",
            "--------------------\n",
            "Train Loss: 0.8568 Acc: 0.7053\n",
            "Val Loss: 0.9199 Acc: 0.6838\n",
            "\n",
            "Epoch 15/20\n",
            "--------------------\n",
            "Train Loss: 0.8382 Acc: 0.7133\n",
            "Val Loss: 0.8621 Acc: 0.7032\n",
            "✔️ Saved best model\n",
            "\n",
            "Epoch 16/20\n",
            "--------------------\n",
            "Train Loss: 0.8154 Acc: 0.7194\n",
            "Val Loss: 0.8408 Acc: 0.7141\n",
            "✔️ Saved best model\n",
            "\n",
            "Epoch 17/20\n",
            "--------------------\n",
            "Train Loss: 0.7946 Acc: 0.7259\n",
            "Val Loss: 0.8543 Acc: 0.7064\n",
            "\n",
            "Epoch 18/20\n",
            "--------------------\n",
            "Train Loss: 0.7799 Acc: 0.7313\n",
            "Val Loss: 0.7755 Acc: 0.7381\n",
            "✔️ Saved best model\n",
            "\n",
            "Epoch 19/20\n",
            "--------------------\n",
            "Train Loss: 0.7587 Acc: 0.7389\n",
            "Val Loss: 0.8181 Acc: 0.7201\n",
            "\n",
            "Epoch 20/20\n",
            "--------------------\n",
            "Train Loss: 0.7495 Acc: 0.7449\n",
            "Val Loss: 0.8410 Acc: 0.7150\n"
          ]
        },
        {
          "data": {
            "image/png": "[encoded data removed]",
            "text/plain": [
              "<Figure size 1200x500 with 2 Axes>"
            ]
          },
          "metadata": {},
          "output_type": "display_data"
        }
      ],
      "source": [
        "#Train-Val\n",
        "\n",
        "criterion = torch.nn.CrossEntropyLoss()\n",
        "optimizer = torch.optim.Adam(model.parameters(), lr=0.001, weight_decay =0.001)\n",
        "num_epochs = 20\n",
        "best_model_wts = copy.deepcopy(model.state_dict())\n",
        "best_loss = float('inf')\n",
        "\n",
        "# Early stopping parameters\n",
        "early_stopping_patience = 5  # Number of epochs to wait for improvement\n",
        "epochs_no_improve = 0\n",
        "\n",
        "train_losses, val_losses = [], []\n",
        "train_accs, val_accs = [], []\n",
        "\n",
        "for epoch in range(num_epochs):\n",
        "    print(f\"\\nEpoch {epoch+1}/{num_epochs}\")\n",
        "    print(\"-\" * 20)\n",
        "\n",
        "    # Training phase\n",
        "    model.train()\n",
        "    running_loss, running_corrects, total = 0.0, 0, 0\n",
        "\n",
        "    for inputs, labels in train_loader:\n",
        "        inputs, labels = inputs.to(device), labels.to(device)\n",
        "\n",
        "        optimizer.zero_grad()\n",
        "        outputs = model(inputs)\n",
        "        loss = criterion(outputs, labels)\n",
        "        loss.backward()\n",
        "        optimizer.step()\n",
        "\n",
        "        _, preds = torch.max(outputs, 1)\n",
        "        running_loss += loss.item() * inputs.size(0)\n",
        "        running_corrects += torch.sum(preds == labels.data)\n",
        "        total += labels.size(0)\n",
        "\n",
        "    epoch_loss = running_loss / total\n",
        "    epoch_acc = running_corrects.double() / total\n",
        "    train_losses.append(epoch_loss)\n",
        "    train_accs.append(epoch_acc.item())\n",
        "\n",
        "    print(f\"Train Loss: {epoch_loss:.4f} Acc: {epoch_acc:.4f}\")\n",
        "\n",
        "    # Validation phase\n",
        "    model.eval()\n",
        "    running_loss, running_corrects, total = 0.0, 0, 0\n",
        "\n",
        "    with torch.no_grad():\n",
        "        for inputs, labels in val_loader:\n",
        "            inputs, labels = inputs.to(device), labels.to(device)\n",
        "            outputs = model(inputs)\n",
        "            loss = criterion(outputs, labels)\n",
        "\n",
        "            _, preds = torch.max(outputs, 1)\n",
        "            running_loss += loss.item() * inputs.size(0)\n",
        "            running_corrects += torch.sum(preds == labels.data)\n",
        "            total += labels.size(0)\n",
        "\n",
        "    epoch_loss = running_loss / total\n",
        "    epoch_acc = running_corrects.double() / total\n",
        "    val_losses.append(epoch_loss)\n",
        "    val_accs.append(epoch_acc.item())\n",
        "\n",
        "    print(f\"Val Loss: {epoch_loss:.4f} Acc: {epoch_acc:.4f}\")\n",
        "\n",
        "    # Save best weights and check for early stopping\n",
        "    if epoch_loss < best_loss:\n",
        "        best_loss = epoch_loss\n",
        "        best_model_wts = copy.deepcopy(model.state_dict())\n",
        "        torch.save(best_model_wts, \"best_resnet50_cifar10.pth\")\n",
        "        print(\"✔️ Saved best model\")\n",
        "        epochs_no_improve = 0  # Reset counter\n",
        "    else:\n",
        "        epochs_no_improve += 1\n",
        "\n",
        "    if epochs_no_improve == early_stopping_patience:\n",
        "        print(f\"Early stopping after {epoch+1} epochs due to no improvement in validation loss.\")\n",
        "        break  # Stop training loop\n",
        "\n",
        "\n",
        "plt.figure(figsize=(12,5))\n",
        "\n",
        "plt.subplot(1,2,1)\n",
        "plt.plot(train_losses, label=\"Train Loss\")\n",
        "plt.plot(val_losses, label=\"Val Loss\")\n",
        "plt.xlabel(\"Epoch\")\n",
        "plt.ylabel(\"Loss\")\n",
        "plt.legend()\n",
        "plt.title(\"Loss Curves\")\n",
        "\n",
        "plt.subplot(1,2,2)\n",
        "plt.plot(train_accs, label=\"Train Acc\")\n",
        "plt.plot(val_accs, label=\"Val Acc\")\n",
        "plt.xlabel(\"Epoch\")\n",
        "plt.ylabel(\"Accuracy\")\n",
        "plt.legend()\n",
        "plt.title(\"Accuracy Curves\")\n",
        "\n",
        "plt.show()"
      ]
    },
    {
      "cell_type": "code",
      "execution_count": 9,
      "metadata": {
        "id": "o2WoIVMnDOEF",
        "colab": {
          "base_uri": "https://localhost:8080/"
        },
        "outputId": "54169653-08cd-4b7e-93d3-1800a859c4ef"
      },
      "outputs": [
        {
          "output_type": "stream",
          "name": "stdout",
          "text": [
            "✅ Test Accuracy: 73.87%\n"
          ]
        }
      ],
      "source": [
        "model.load_state_dict(best_model_wts)\n",
        "\n",
        "model.eval()\n",
        "correct, total = 0, 0\n",
        "with torch.no_grad():\n",
        "    for inputs, labels in test_loader:\n",
        "        inputs, labels = inputs.to(device), labels.to(device)\n",
        "        outputs = model(inputs)\n",
        "        _, preds = torch.max(outputs, 1)\n",
        "        total += labels.size(0)\n",
        "        correct += (preds == labels).sum().item()\n",
        "\n",
        "print(f\"✅ Test Accuracy: {100 * correct / total:.2f}%\")"
      ]
    },
    {
      "cell_type": "code",
      "execution_count": null,
      "metadata": {
        "id": "x10_9RjAHKtT"
      },
      "outputs": [],
      "source": []
    }
  ],
  "metadata": {
    "accelerator": "GPU",
    "colab": {
      "gpuType": "T4",
      "provenance": [],
      "toc_visible": true
    },
    "kernelspec": {
      "display_name": "Python [conda env:base] *",
      "language": "python",
      "name": "conda-base-py"
    },
    "language_info": {
      "codemirror_mode": {
        "name": "ipython",
        "version": 3
      },
      "file_extension": ".py",
      "mimetype": "text/x-python",
      "name": "python",
      "nbconvert_exporter": "python",
      "pygments_lexer": "ipython3",
      "version": "3.13.5"
    }
  },
  "nbformat": 4,
  "nbformat_minor": 0
}